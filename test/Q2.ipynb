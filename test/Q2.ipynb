{
 "cells": [
  {
   "cell_type": "code",
   "execution_count": 2,
   "id": "1c0c29dc-92d2-4909-9053-dac6cfb0c958",
   "metadata": {},
   "outputs": [],
   "source": [
    "def netForce(P, m, g=10, f=0):\n",
    "    net = P - m * g * f\n",
    "    return net"
   ]
  },
  {
   "cell_type": "code",
   "execution_count": 3,
   "id": "b8e8834d-1514-41bd-b696-5275da65d6d8",
   "metadata": {},
   "outputs": [],
   "source": [
    "# Student\n",
    "def countSurfaces_sol(P, m, g, f):\n",
    "    \"\"\"\n",
    "    Return number of surfaces before net force becomes negative\n",
    "    \"\"\"\n",
    "    num_surfaces = 0\n",
    "    while netForce(P, m, g, f) >= 0:\n",
    "        num_surfaces = num_surfaces + 1\n",
    "        P, f = P/2, f*2\n",
    "    return num_surfaces"
   ]
  },
  {
   "cell_type": "code",
   "execution_count": 40,
   "id": "02974e8b-61e7-41a6-a9c2-767e74980586",
   "metadata": {},
   "outputs": [
    {
     "ename": "IndentationError",
     "evalue": "unexpected indent (2251918072.py, line 8)",
     "output_type": "error",
     "traceback": [
      "\u001b[0;36m  Cell \u001b[0;32mIn[40], line 8\u001b[0;36m\u001b[0m\n\u001b[0;31m    num_surfaces = ____________ # Fill in\u001b[0m\n\u001b[0m    ^\u001b[0m\n\u001b[0;31mIndentationError\u001b[0m\u001b[0;31m:\u001b[0m unexpected indent\n"
     ]
    }
   ],
   "source": [
    "# Solution\n",
    "def countSurfaces(P, m, g, f):\n",
    "    \"\"\"\n",
    "    Return number of surfaces before net force becomes negative\n",
    "    \"\"\"\n",
    "    num_surfaces = 0\n",
    "    ____________ # Fill in (f)\n",
    "        num_surfaces = ____________ # Fill in (g)\n",
    "        P, f = ____________ # Fill in (h)\n",
    "    return num_surfaces"
   ]
  },
  {
   "cell_type": "code",
   "execution_count": 38,
   "id": "fe002d50-7ed3-49ce-b8c8-bf15c7478b63",
   "metadata": {},
   "outputs": [],
   "source": [
    "# compare\n",
    "\n",
    "assert countSurfaces_sol(1, 1, 1, 1) == countSurfaces(1, 1, 1, 1)\n",
    "assert countSurfaces_sol(0, 1, 1, 1) == countSurfaces(0, 1, 1, 1)\n",
    "assert countSurfaces_sol(2, 1, 1, 0.5) == countSurfaces(2, 1, 1, 0.5)"
   ]
  }
 ],
 "metadata": {
  "kernelspec": {
   "display_name": "Python 3 (ipykernel)",
   "language": "python",
   "name": "python3"
  },
  "language_info": {
   "codemirror_mode": {
    "name": "ipython",
    "version": 3
   },
   "file_extension": ".py",
   "mimetype": "text/x-python",
   "name": "python",
   "nbconvert_exporter": "python",
   "pygments_lexer": "ipython3",
   "version": "3.11.9"
  }
 },
 "nbformat": 4,
 "nbformat_minor": 5
}
