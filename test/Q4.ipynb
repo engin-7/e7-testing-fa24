{
 "cells": [
  {
   "cell_type": "code",
   "execution_count": 1,
   "id": "65c79464-2b8d-4eb7-8c6c-f03f6c07b253",
   "metadata": {},
   "outputs": [],
   "source": [
    "def countChanges_sol(word):\n",
    "    \"\"\"Return number of character changes in a string\n",
    "    >>> countChanges('abbba') # 2 changes: a to b, and b to a\n",
    "    2\n",
    "    >>> countChanges('abBba') # 2 changes: a to b, and b to a\n",
    "    2\n",
    "    >>> countChanges('hello') # 3 changes: h to e, e to l, and l to o\n",
    "    3\n",
    "    >>> countChanges('eeEeeEeeEEee') # 0 changes\n",
    "    0\n",
    "    >>> countChanges(777) # input is not of type string\n",
    "    -999\n",
    "    \"\"\"\n",
    "    if type(word) != str and not type(word) == str:\n",
    "        return -999\n",
    "    changes = 0\n",
    "    for i in range(len(word) - 1):\n",
    "        if word[i].lower() != word[i+1].lower() and word[i].upper() != word[i+1].upper():\n",
    "            changes += 1\n",
    "    return changes"
   ]
  },
  {
   "cell_type": "code",
   "execution_count": null,
   "id": "96af4677-f75c-44dc-90bf-d342b4485f0e",
   "metadata": {},
   "outputs": [],
   "source": [
    "def countChanges(word):\n",
    "    \"\"\"Return number of character changes in a string\n",
    "    >>> countChanges('abbba') # 2 changes: a to b, and b to a\n",
    "    2\n",
    "    >>> countChanges('abBba') # 2 changes: a to b, and b to a\n",
    "    2\n",
    "    >>> countChanges('hello') # 3 changes: h to e, e to l, and l to o\n",
    "    3\n",
    "    >>> countChanges('eeEeeEeeEEee') # 0 changes\n",
    "    0\n",
    "    >>> countChanges(777) # input is not of type string\n",
    "    -999\n",
    "    \"\"\"\n",
    "    if __________: # Fill in (a)\n",
    "        __________ # Fill in (b)\n",
    "    changes = __________ # Fill in (c)\n",
    "    for i in __________: # Fill in (d)\n",
    "        if __________: # Fill in (e)\n",
    "            changes += __________ # Fill in (f)\n",
    "    return changes"
   ]
  },
  {
   "cell_type": "code",
   "execution_count": null,
   "id": "9d0dff15-0a77-4516-8cd3-67f234db7250",
   "metadata": {},
   "outputs": [],
   "source": [
    "# compare\n",
    "assert countChanges_sol('hello') == countChanges('hello')\n",
    "assert countChanges_sol('wOrLd') == countChanges('wOrLd')\n",
    "assert countChanges_sol('abbba') == countChanges('abbba')\n",
    "assert countChanges_sol('abBba') == countChanges('abBba')\n",
    "assert countChanges_sol('eeEeeEeeEEee') == countChanges('eeEeeEeeEEee')\n",
    "assert countChanges_sol(777) == countChanges(777)"
   ]
  }
 ],
 "metadata": {
  "kernelspec": {
   "display_name": "Python 3 (ipykernel)",
   "language": "python",
   "name": "python3"
  },
  "language_info": {
   "codemirror_mode": {
    "name": "ipython",
    "version": 3
   },
   "file_extension": ".py",
   "mimetype": "text/x-python",
   "name": "python",
   "nbconvert_exporter": "python",
   "pygments_lexer": "ipython3",
   "version": "3.11.9"
  }
 },
 "nbformat": 4,
 "nbformat_minor": 5
}
