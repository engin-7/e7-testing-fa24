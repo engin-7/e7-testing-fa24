{
 "cells": [
  {
   "cell_type": "code",
   "execution_count": null,
   "id": "26c06088-4c06-4b02-97e5-baff46a8031e",
   "metadata": {},
   "outputs": [],
   "source": [
    "def first_sol(n):\n",
    "    \"\"\"Return the first number in the nth row\n",
    "    >>> first(1) # first number in 1st row is 1\n",
    "    1\n",
    "    >>> first(4) # first number in 4th row is 7\n",
    "    7\n",
    "    \"\"\"\n",
    "    if n == 1:\n",
    "        return 1\n",
    "    return n-1 + first_sol(n-1)"
   ]
  },
  {
   "cell_type": "code",
   "execution_count": null,
   "id": "5287a6ed-9cc7-4d0f-9a71-520d5f6b2e11",
   "metadata": {},
   "outputs": [],
   "source": [
    "def first(n):\n",
    "    \"\"\"Return the first number in the nth row\n",
    "    >>> first(1) # first number in 1st row is 1\n",
    "    1\n",
    "    >>> first(4) # first number in 4th row is 7\n",
    "    7\n",
    "    \"\"\"\n",
    "    if n == 1:\n",
    "        _________ # Fill in (a)\n",
    "    _________________ # Fill in (b)"
   ]
  },
  {
   "cell_type": "code",
   "execution_count": null,
   "id": "a81add33-bf77-403a-bb93-3c1583a21e1a",
   "metadata": {},
   "outputs": [],
   "source": [
    "# compare\n",
    "\n",
    "assert first_sol(1) == first(1)\n",
    "assert first_sol(2) == first(2)\n",
    "assert first_sol(3) == first(3)\n",
    "assert first_sol(4) == first(4)"
   ]
  }
 ],
 "metadata": {
  "kernelspec": {
   "display_name": "Python 3 (ipykernel)",
   "language": "python",
   "name": "python3"
  },
  "language_info": {
   "codemirror_mode": {
    "name": "ipython",
    "version": 3
   },
   "file_extension": ".py",
   "mimetype": "text/x-python",
   "name": "python",
   "nbconvert_exporter": "python",
   "pygments_lexer": "ipython3",
   "version": "3.11.9"
  }
 },
 "nbformat": 4,
 "nbformat_minor": 5
}
