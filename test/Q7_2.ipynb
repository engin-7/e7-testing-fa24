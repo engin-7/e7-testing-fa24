{
 "cells": [
  {
   "cell_type": "code",
   "execution_count": 3,
   "id": "ac8da023-22e0-4d13-a628-f2c36fe2267e",
   "metadata": {},
   "outputs": [],
   "source": [
    "def first(n):\n",
    "    \"\"\"Return the first number in the nth row\n",
    "    >>> first(1) # first number in 1st row is 1\n",
    "    1\n",
    "    >>> first(4) # first number in 4th row is 7\n",
    "    7\n",
    "    \"\"\"\n",
    "    if n == 1:\n",
    "        return 1\n",
    "    return n-1 + first(n-1)"
   ]
  },
  {
   "cell_type": "code",
   "execution_count": 4,
   "id": "d5290794-9ce4-4ab8-af19-d7c2edebe601",
   "metadata": {},
   "outputs": [],
   "source": [
    "def row_sum_sol(n):\n",
    "    \"\"\"Return the sum of all numbers in the nth row\n",
    "    >>> row_sum(1)\n",
    "    1\n",
    "    >>> row_sum(2)\n",
    "    5\n",
    "    >>> row_sum(3)\n",
    "    15\n",
    "    >>> row_sum(4)\n",
    "    34\n",
    "    \"\"\"\n",
    "    total = 0\n",
    "    for i in range(n):\n",
    "        total += first(n) + i\n",
    "    return total"
   ]
  },
  {
   "cell_type": "code",
   "execution_count": null,
   "id": "f6a2c7ab-343e-4221-a181-7ab70832d288",
   "metadata": {},
   "outputs": [],
   "source": [
    "def row_sum(n):\n",
    "    \"\"\"Return the sum of all numbers in the nth row\n",
    "    >>> row_sum(1)\n",
    "    1\n",
    "    >>> row_sum(2)\n",
    "    5\n",
    "    >>> row_sum(3)\n",
    "    15\n",
    "    >>> row_sum(4)\n",
    "    34\n",
    "    \"\"\"\n",
    "    total = 0\n",
    "    ____________ # Fill in (c)\n",
    "        ____________ # Fill in (d)\n",
    "    return total"
   ]
  },
  {
   "cell_type": "code",
   "execution_count": null,
   "id": "5c568896-db0e-4573-97ad-2c1d61ac0dcd",
   "metadata": {},
   "outputs": [],
   "source": [
    "assert row_sum_sol(1) == row_sum(1)\n",
    "assert row_sum_sol(2) == row_sum(2)\n",
    "assert row_sum_sol(3) == row_sum(3)\n",
    "assert row_sum_sol(4) == row_sum(4)"
   ]
  }
 ],
 "metadata": {
  "kernelspec": {
   "display_name": "Python 3 (ipykernel)",
   "language": "python",
   "name": "python3"
  },
  "language_info": {
   "codemirror_mode": {
    "name": "ipython",
    "version": 3
   },
   "file_extension": ".py",
   "mimetype": "text/x-python",
   "name": "python",
   "nbconvert_exporter": "python",
   "pygments_lexer": "ipython3",
   "version": "3.11.9"
  }
 },
 "nbformat": 4,
 "nbformat_minor": 5
}
